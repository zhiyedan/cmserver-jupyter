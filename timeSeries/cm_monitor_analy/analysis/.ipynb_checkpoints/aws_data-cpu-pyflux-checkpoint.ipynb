{
 "cells": [
  {
   "cell_type": "code",
   "execution_count": 1,
   "metadata": {},
   "outputs": [
    {
     "name": "stderr",
     "output_type": "stream",
     "text": [
      "/home/zhiyedan/anaconda2/lib/python2.7/site-packages/statsmodels/compat/pandas.py:56: FutureWarning: The pandas.core.datetools module is deprecated and will be removed in a future version. Please use the pandas.tseries module instead.\n",
      "  from pandas.core import datetools\n"
     ]
    }
   ],
   "source": [
    "import pandas as pd\n",
    "import numpy as np\n",
    "import matplotlib.pyplot as plt\n",
    "%matplotlib inline\n",
    "\n",
    "import my_util,my_scaler,read_file,arima\n",
    "import pyflux as pf\n",
    "from sklearn.metrics import mean_squared_error\n",
    "\n",
    "from matplotlib.pylab import rcParams\n",
    "rcParams['figure.figsize'] = 18,9"
   ]
  },
  {
   "cell_type": "code",
   "execution_count": 2,
   "metadata": {},
   "outputs": [
    {
     "data": {
      "text/plain": [
       "<pyflux.results.MLEResults at 0x7f7573abf710>"
      ]
     },
     "execution_count": 2,
     "metadata": {},
     "output_type": "execute_result"
    },
    {
     "name": "stdout",
     "output_type": "stream",
     "text": [
      "fit finished\n"
     ]
    }
   ],
   "source": [
    "data = read_file.read_aws('rds_cpu_utilization_e47b3b.csv')\n",
    "data = data.to_frame()\n",
    "\n",
    "diffn,_ = arima.best_diff(data,col='value')\n",
    "data,diffn_col_name,bck_df = arima.add_diff_col(data,'value',diffn)\n",
    "\n",
    "train,test = my_util.split_train_test(data,0.7)\n",
    "\n",
    "order = arima.best_pq(train[diffn_col_name])\n",
    "aic_order = order.aic_min_order\n",
    "ar,ma = aic_order[0],aic_order[1]\n",
    "print('ar is: %d, ma is:%d' % ar,ma)\n",
    "\n",
    "model = pf.ARIMA(data=train, ar=ar, ma=ma, target=diffn_col_name, family=pf.Normal())"
   ]
  },
  {
   "cell_type": "code",
   "execution_count": 14,
   "metadata": {},
   "outputs": [
    {
     "name": "stdout",
     "output_type": "stream",
     "text": [
      "Normal ARIMA(5,0,7)                                                                                       \n",
      "======================================================= ==================================================\n",
      "Dependent Variable: diff1                               Method: MLE                                       \n",
      "Start Date: 2014-04-10 00:42:00                         Log Likelihood: -5040.7559                        \n",
      "End Date: 2014-04-19 19:07:00                           AIC: 10109.5119                                   \n",
      "Number of observations: 2814                            BIC: 10192.705                                    \n",
      "==========================================================================================================\n",
      "Latent Variable                          Estimate   Std Error  z        P>|z|    95% C.I.                 \n",
      "======================================== ========== ========== ======== ======== =========================\n",
      "Constant                                 0.0001     0.0        2.8002   0.0051   (0.0 | 0.0001)           \n",
      "AR(1)                                    -0.2074    0.0053     -39.3935 0.0      (-0.2177 | -0.197)       \n",
      "AR(2)                                    0.1559     0.0043     36.1159  0.0      (0.1475 | 0.1644)        \n",
      "AR(3)                                    0.3948     0.0055     72.3512  0.0      (0.3841 | 0.4055)        \n",
      "AR(4)                                    0.8374     0.0046     182.5063 0.0      (0.8284 | 0.8464)        \n",
      "AR(5)                                    -0.1951    0.0017     -113.265 0.0      (-0.1985 | -0.1918)      \n",
      "MA(1)                                    -0.1472    0.0        -7.59615 0.0      (-0.1472 | -0.1472)      \n",
      "MA(2)                                    -0.6636    0.0        -1.03893 0.0      (-0.6636 | -0.6636)      \n",
      "MA(3)                                    -0.4802    0.0        -6.04755 0.0      (-0.4802 | -0.4802)      \n",
      "MA(4)                                    -0.6517    0.0        -2.09448 0.0      (-0.6517 | -0.6517)      \n",
      "MA(5)                                    0.6604     0.0        2.736579 0.0      (0.6604 | 0.6604)        \n",
      "MA(6)                                    0.3303     0.0        2.112771 0.0      (0.3303 | 0.3303)        \n",
      "MA(7)                                    -0.0468    0.0        -2.19544 0.0      (-0.0468 | -0.0468)      \n",
      "Normal Scale                             1.4526                                                           \n",
      "==========================================================================================================\n"
     ]
    }
   ],
   "source": [
    "x = model.fit(\"MLE\")\n",
    "x.summary()\n"
   ]
  },
  {
   "cell_type": "code",
   "execution_count": 37,
   "metadata": {},
   "outputs": [
    {
     "data": {
      "image/png": "[encoded data removed]",
      "text/plain": [
       "<matplotlib.figure.Figure at 0x7f7568f648d0>"
      ]
     },
     "metadata": {},
     "output_type": "display_data"
    }
   ],
   "source": [
    "model.plot_fit()"
   ]
  },
  {
   "cell_type": "code",
   "execution_count": 16,
   "metadata": {},
   "outputs": [
    {
     "name": "stdout",
     "output_type": "stream",
     "text": [
      "Acceptance rate of Metropolis-Hastings is 0.0001\n",
      "Acceptance rate of Metropolis-Hastings is 0.13325\n",
      "Acceptance rate of Metropolis-Hastings is 0.20555\n",
      "Acceptance rate of Metropolis-Hastings is 0.31155\n",
      "\n",
      "Tuning complete! Now sampling.\n",
      "Acceptance rate of Metropolis-Hastings is 0.31215\n",
      "Normal ARIMA(5,0,7)                                                                                       \n",
      "======================================================= ==================================================\n",
      "Dependent Variable: diff1                               Method: Metropolis Hastings                       \n",
      "Start Date: 2014-04-10 00:42:00                         Unnormalized Log Posterior: -5039.2866            \n",
      "End Date: 2014-04-19 19:07:00                           AIC: 10106.5731927                                \n",
      "Number of observations: 2814                            BIC: 10189.766264                                 \n",
      "==========================================================================================================\n",
      "Latent Variable                          Median             Mean               95% Credibility Interval \n",
      "======================================== ================== ================== =========================\n",
      "Constant                                 0.0056             0.0061             (-0.0021 | 0.0181)       \n",
      "AR(1)                                    -0.1466            -0.1235            (-0.2638 | 0.0523)       \n",
      "AR(2)                                    0.0866             0.0987             (0.0084 | 0.2198)        \n",
      "AR(3)                                    -0.4338            -0.3755            (-0.6218 | -0.0302)      \n",
      "AR(4)                                    0.2144             0.2079             (0.1378 | 0.2689)        \n",
      "AR(5)                                    -0.0643            -0.15              (-0.5038 | 0.0733)       \n",
      "MA(1)                                    -0.2052            -0.2307            (-0.3971 | -0.0913)      \n",
      "MA(2)                                    -0.5731            -0.5763            (-0.6531 | -0.4988)      \n",
      "MA(3)                                    0.3228             0.3098             (0.0498 | 0.5132)        \n",
      "MA(4)                                    -0.3345            -0.3025            (-0.4149 | -0.1466)      \n",
      "MA(5)                                    -0.0982            0.0134             (-0.3258 | 0.519)        \n",
      "MA(6)                                    0.0658             0.067              (-0.0264 | 0.1549)       \n",
      "MA(7)                                    -0.0478            -0.0846            (-0.2661 | 0.0388)       \n",
      "Normal Scale                             1.4813             1.4818             (1.4562 | 1.5033)        \n",
      "==========================================================================================================\n"
     ]
    }
   ],
   "source": [
    "y = model.fit(\"M-H\")\n",
    "y.summary()"
   ]
  },
  {
   "cell_type": "code",
   "execution_count": 31,
   "metadata": {},
   "outputs": [
    {
     "ename": "AttributeError",
     "evalue": "'LatentVariables' object has no attribute 'variables'",
     "output_type": "error",
     "traceback": [
      "\u001b[0;31m\u001b[0m",
      "\u001b[0;31mAttributeError\u001b[0mTraceback (most recent call last)",
      "\u001b[0;32m<ipython-input-31-191eeb51a359>\u001b[0m in \u001b[0;36m<module>\u001b[0;34m()\u001b[0m\n\u001b[0;32m----> 1\u001b[0;31m \u001b[0mmodel\u001b[0m\u001b[0;34m.\u001b[0m\u001b[0mlatent_variables\u001b[0m\u001b[0;34m.\u001b[0m\u001b[0mvariables\u001b[0m\u001b[0;34m\u001b[0m\u001b[0m\n\u001b[0m",
      "\u001b[0;31mAttributeError\u001b[0m: 'LatentVariables' object has no attribute 'variables'"
     ]
    }
   ],
   "source": [
    "model.latent_variables.variables"
   ]
  },
  {
   "cell_type": "code",
   "execution_count": 33,
   "metadata": {},
   "outputs": [
    {
     "data": {
      "text/html": [
       "<div>\n",
       "<style>\n",
       "    .dataframe thead tr:only-child th {\n",
       "        text-align: right;\n",
       "    }\n",
       "\n",
       "    .dataframe thead th {\n",
       "        text-align: left;\n",
       "    }\n",
       "\n",
       "    .dataframe tbody tr th {\n",
       "        vertical-align: top;\n",
       "    }\n",
       "</style>\n",
       "<table border=\"1\" class=\"dataframe\">\n",
       "  <thead>\n",
       "    <tr style=\"text-align: right;\">\n",
       "      <th></th>\n",
       "      <th>Series</th>\n",
       "    </tr>\n",
       "    <tr>\n",
       "      <th>timestamp</th>\n",
       "      <th></th>\n",
       "    </tr>\n",
       "  </thead>\n",
       "  <tbody>\n",
       "    <tr>\n",
       "      <th>2014-04-19 18:22:00</th>\n",
       "      <td>-1.378531</td>\n",
       "    </tr>\n",
       "    <tr>\n",
       "      <th>2014-04-19 18:27:00</th>\n",
       "      <td>0.505496</td>\n",
       "    </tr>\n",
       "    <tr>\n",
       "      <th>2014-04-19 18:32:00</th>\n",
       "      <td>-1.145283</td>\n",
       "    </tr>\n",
       "    <tr>\n",
       "      <th>2014-04-19 18:37:00</th>\n",
       "      <td>0.307404</td>\n",
       "    </tr>\n",
       "    <tr>\n",
       "      <th>2014-04-19 18:42:00</th>\n",
       "      <td>-0.154704</td>\n",
       "    </tr>\n",
       "    <tr>\n",
       "      <th>2014-04-19 18:47:00</th>\n",
       "      <td>0.578966</td>\n",
       "    </tr>\n",
       "    <tr>\n",
       "      <th>2014-04-19 18:52:00</th>\n",
       "      <td>-1.088749</td>\n",
       "    </tr>\n",
       "    <tr>\n",
       "      <th>2014-04-19 18:57:00</th>\n",
       "      <td>1.495022</td>\n",
       "    </tr>\n",
       "    <tr>\n",
       "      <th>2014-04-19 19:02:00</th>\n",
       "      <td>-0.734225</td>\n",
       "    </tr>\n",
       "    <tr>\n",
       "      <th>2014-04-19 19:07:00</th>\n",
       "      <td>0.377868</td>\n",
       "    </tr>\n",
       "  </tbody>\n",
       "</table>\n",
       "</div>"
      ],
      "text/plain": [
       "                       Series\n",
       "timestamp                    \n",
       "2014-04-19 18:22:00 -1.378531\n",
       "2014-04-19 18:27:00  0.505496\n",
       "2014-04-19 18:32:00 -1.145283\n",
       "2014-04-19 18:37:00  0.307404\n",
       "2014-04-19 18:42:00 -0.154704\n",
       "2014-04-19 18:47:00  0.578966\n",
       "2014-04-19 18:52:00 -1.088749\n",
       "2014-04-19 18:57:00  1.495022\n",
       "2014-04-19 19:02:00 -0.734225\n",
       "2014-04-19 19:07:00  0.377868"
      ]
     },
     "execution_count": 33,
     "metadata": {},
     "output_type": "execute_result"
    }
   ],
   "source": [
    "model.predict_is(h=10)"
   ]
  },
  {
   "cell_type": "code",
   "execution_count": 36,
   "metadata": {},
   "outputs": [
    {
     "data": {
      "text/html": [
       "<div>\n",
       "<style>\n",
       "    .dataframe thead tr:only-child th {\n",
       "        text-align: right;\n",
       "    }\n",
       "\n",
       "    .dataframe thead th {\n",
       "        text-align: left;\n",
       "    }\n",
       "\n",
       "    .dataframe tbody tr th {\n",
       "        vertical-align: top;\n",
       "    }\n",
       "</style>\n",
       "<table border=\"1\" class=\"dataframe\">\n",
       "  <thead>\n",
       "    <tr style=\"text-align: right;\">\n",
       "      <th></th>\n",
       "      <th>value</th>\n",
       "      <th>diff1</th>\n",
       "    </tr>\n",
       "    <tr>\n",
       "      <th>timestamp</th>\n",
       "      <th></th>\n",
       "      <th></th>\n",
       "    </tr>\n",
       "  </thead>\n",
       "  <tbody>\n",
       "    <tr>\n",
       "      <th>2014-04-19 18:22:00</th>\n",
       "      <td>27.6575</td>\n",
       "      <td>-1.9275</td>\n",
       "    </tr>\n",
       "    <tr>\n",
       "      <th>2014-04-19 18:27:00</th>\n",
       "      <td>30.1025</td>\n",
       "      <td>2.4450</td>\n",
       "    </tr>\n",
       "    <tr>\n",
       "      <th>2014-04-19 18:32:00</th>\n",
       "      <td>27.6475</td>\n",
       "      <td>-2.4550</td>\n",
       "    </tr>\n",
       "    <tr>\n",
       "      <th>2014-04-19 18:37:00</th>\n",
       "      <td>27.5000</td>\n",
       "      <td>-0.1475</td>\n",
       "    </tr>\n",
       "    <tr>\n",
       "      <th>2014-04-19 18:42:00</th>\n",
       "      <td>28.7600</td>\n",
       "      <td>1.2600</td>\n",
       "    </tr>\n",
       "    <tr>\n",
       "      <th>2014-04-19 18:47:00</th>\n",
       "      <td>28.4950</td>\n",
       "      <td>-0.2650</td>\n",
       "    </tr>\n",
       "    <tr>\n",
       "      <th>2014-04-19 18:52:00</th>\n",
       "      <td>26.2250</td>\n",
       "      <td>-2.2700</td>\n",
       "    </tr>\n",
       "    <tr>\n",
       "      <th>2014-04-19 18:57:00</th>\n",
       "      <td>29.1675</td>\n",
       "      <td>2.9425</td>\n",
       "    </tr>\n",
       "    <tr>\n",
       "      <th>2014-04-19 19:02:00</th>\n",
       "      <td>27.9000</td>\n",
       "      <td>-1.2675</td>\n",
       "    </tr>\n",
       "  </tbody>\n",
       "</table>\n",
       "</div>"
      ],
      "text/plain": [
       "                       value   diff1\n",
       "timestamp                           \n",
       "2014-04-19 18:22:00  27.6575 -1.9275\n",
       "2014-04-19 18:27:00  30.1025  2.4450\n",
       "2014-04-19 18:32:00  27.6475 -2.4550\n",
       "2014-04-19 18:37:00  27.5000 -0.1475\n",
       "2014-04-19 18:42:00  28.7600  1.2600\n",
       "2014-04-19 18:47:00  28.4950 -0.2650\n",
       "2014-04-19 18:52:00  26.2250 -2.2700\n",
       "2014-04-19 18:57:00  29.1675  2.9425\n",
       "2014-04-19 19:02:00  27.9000 -1.2675"
      ]
     },
     "execution_count": 36,
     "metadata": {},
     "output_type": "execute_result"
    }
   ],
   "source": [
    "train[-10:-1]"
   ]
  },
  {
   "cell_type": "code",
   "execution_count": null,
   "metadata": {},
   "outputs": [],
   "source": [
    "# data['recovery'] = arima.recovery_diff(data[diffn_col_name],diffn,bck_df['value'][0])"
   ]
  }
 ],
 "metadata": {
  "kernelspec": {
   "display_name": "Python 2",
   "language": "python",
   "name": "python2"
  },
  "language_info": {
   "codemirror_mode": {
    "name": "ipython",
    "version": 2
   },
   "file_extension": ".py",
   "mimetype": "text/x-python",
   "name": "python",
   "nbconvert_exporter": "python",
   "pygments_lexer": "ipython2",
   "version": "2.7.14"
  }
 },
 "nbformat": 4,
 "nbformat_minor": 2
}
