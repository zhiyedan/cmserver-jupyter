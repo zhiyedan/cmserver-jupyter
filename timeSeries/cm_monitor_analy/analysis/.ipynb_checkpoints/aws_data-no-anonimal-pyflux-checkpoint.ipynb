{
 "cells": [
  {
   "cell_type": "code",
   "execution_count": 1,
   "metadata": {},
   "outputs": [
    {
     "name": "stderr",
     "output_type": "stream",
     "text": [
      "/home/zhiyedan/anaconda2/lib/python2.7/site-packages/statsmodels/compat/pandas.py:56: FutureWarning: The pandas.core.datetools module is deprecated and will be removed in a future version. Please use the pandas.tseries module instead.\n",
      "  from pandas.core import datetools\n"
     ]
    }
   ],
   "source": [
    "import pandas as pd\n",
    "import numpy as np\n",
    "import matplotlib.pyplot as plt\n",
    "%matplotlib inline\n",
    "\n",
    "import my_util,my_scaler,read_file,arima\n",
    "import pyflux as pf\n",
    "from sklearn.metrics import mean_squared_error\n",
    "\n",
    "from matplotlib.pylab import rcParams\n",
    "rcParams['figure.figsize'] = 18,9"
   ]
  },
  {
   "cell_type": "code",
   "execution_count": 2,
   "metadata": {
    "collapsed": true
   },
   "outputs": [],
   "source": [
    "data = read_file.read_aws('art_daily_small_noise.csv')\n",
    "data = data.to_frame()\n",
    "\n",
    "diffn,_ = arima.best_diff(data,col='value')\n",
    "data,diffn_col_name,bck_df = arima.add_diff_col(data,'value',diffn)\n",
    "\n",
    "train,test = my_util.split_train_test(data,0.7)\n",
    "\n",
    "order = arima.best_pq(train[diffn_col_name])\n",
    "aic_order = order.aic_min_order\n",
    "ar,ma = aic_order[0],aic_order[1]\n",
    "print ar,ma"
   ]
  },
  {
   "cell_type": "code",
   "execution_count": 4,
   "metadata": {},
   "outputs": [],
   "source": [
    "model = pf.ARIMA(data=train, ar=ar, ma=ma, target=diffn_col_name, family=pf.Normal()).fit('MLE')\n",
    "# x = model.fit(\"MLE\")\n",
    "# x.summary()"
   ]
  },
  {
   "cell_type": "code",
   "execution_count": 7,
   "metadata": {},
   "outputs": [
    {
     "ename": "AttributeError",
     "evalue": "'MLEResults' object has no attribute 'predict'",
     "output_type": "error",
     "traceback": [
      "\u001b[0;31m\u001b[0m",
      "\u001b[0;31mAttributeError\u001b[0mTraceback (most recent call last)",
      "\u001b[0;32m<ipython-input-7-9e299c38b23c>\u001b[0m in \u001b[0;36m<module>\u001b[0;34m()\u001b[0m\n\u001b[0;32m----> 1\u001b[0;31m \u001b[0mmodel\u001b[0m\u001b[0;34m.\u001b[0m\u001b[0mpredict\u001b[0m\u001b[0;34m(\u001b[0m\u001b[0;34m)\u001b[0m\u001b[0;34m\u001b[0m\u001b[0m\n\u001b[0m",
      "\u001b[0;31mAttributeError\u001b[0m: 'MLEResults' object has no attribute 'predict'"
     ]
    }
   ],
   "source": [
    "model.predict()"
   ]
  },
  {
   "cell_type": "code",
   "execution_count": 6,
   "metadata": {},
   "outputs": [
    {
     "data": {
      "text/html": [
       "<div>\n",
       "<style>\n",
       "    .dataframe thead tr:only-child th {\n",
       "        text-align: right;\n",
       "    }\n",
       "\n",
       "    .dataframe thead th {\n",
       "        text-align: left;\n",
       "    }\n",
       "\n",
       "    .dataframe tbody tr th {\n",
       "        vertical-align: top;\n",
       "    }\n",
       "</style>\n",
       "<table border=\"1\" class=\"dataframe\">\n",
       "  <thead>\n",
       "    <tr style=\"text-align: right;\">\n",
       "      <th></th>\n",
       "      <th>value</th>\n",
       "      <th>diff0</th>\n",
       "    </tr>\n",
       "    <tr>\n",
       "      <th>timestamp</th>\n",
       "      <th></th>\n",
       "      <th></th>\n",
       "    </tr>\n",
       "  </thead>\n",
       "  <tbody>\n",
       "    <tr>\n",
       "      <th>2014-04-10 18:20:00</th>\n",
       "      <td>34.620433</td>\n",
       "      <td>34.620433</td>\n",
       "    </tr>\n",
       "    <tr>\n",
       "      <th>2014-04-10 18:25:00</th>\n",
       "      <td>30.039187</td>\n",
       "      <td>30.039187</td>\n",
       "    </tr>\n",
       "    <tr>\n",
       "      <th>2014-04-10 18:30:00</th>\n",
       "      <td>31.464218</td>\n",
       "      <td>31.464218</td>\n",
       "    </tr>\n",
       "    <tr>\n",
       "      <th>2014-04-10 18:35:00</th>\n",
       "      <td>31.672643</td>\n",
       "      <td>31.672643</td>\n",
       "    </tr>\n",
       "    <tr>\n",
       "      <th>2014-04-10 18:40:00</th>\n",
       "      <td>32.633664</td>\n",
       "      <td>32.633664</td>\n",
       "    </tr>\n",
       "    <tr>\n",
       "      <th>2014-04-10 18:45:00</th>\n",
       "      <td>29.259101</td>\n",
       "      <td>29.259101</td>\n",
       "    </tr>\n",
       "    <tr>\n",
       "      <th>2014-04-10 18:50:00</th>\n",
       "      <td>30.251249</td>\n",
       "      <td>30.251249</td>\n",
       "    </tr>\n",
       "    <tr>\n",
       "      <th>2014-04-10 18:55:00</th>\n",
       "      <td>34.761532</td>\n",
       "      <td>34.761532</td>\n",
       "    </tr>\n",
       "    <tr>\n",
       "      <th>2014-04-10 19:00:00</th>\n",
       "      <td>24.229676</td>\n",
       "      <td>24.229676</td>\n",
       "    </tr>\n",
       "  </tbody>\n",
       "</table>\n",
       "</div>"
      ],
      "text/plain": [
       "                         value      diff0\n",
       "timestamp                                \n",
       "2014-04-10 18:20:00  34.620433  34.620433\n",
       "2014-04-10 18:25:00  30.039187  30.039187\n",
       "2014-04-10 18:30:00  31.464218  31.464218\n",
       "2014-04-10 18:35:00  31.672643  31.672643\n",
       "2014-04-10 18:40:00  32.633664  32.633664\n",
       "2014-04-10 18:45:00  29.259101  29.259101\n",
       "2014-04-10 18:50:00  30.251249  30.251249\n",
       "2014-04-10 18:55:00  34.761532  34.761532\n",
       "2014-04-10 19:00:00  24.229676  24.229676"
      ]
     },
     "execution_count": 6,
     "metadata": {},
     "output_type": "execute_result"
    },
    {
     "data": {
      "text/html": [
       "<div>\n",
       "<style>\n",
       "    .dataframe thead tr:only-child th {\n",
       "        text-align: right;\n",
       "    }\n",
       "\n",
       "    .dataframe thead th {\n",
       "        text-align: left;\n",
       "    }\n",
       "\n",
       "    .dataframe tbody tr th {\n",
       "        vertical-align: top;\n",
       "    }\n",
       "</style>\n",
       "<table border=\"1\" class=\"dataframe\">\n",
       "  <thead>\n",
       "    <tr style=\"text-align: right;\">\n",
       "      <th></th>\n",
       "      <th>value</th>\n",
       "      <th>diff0</th>\n",
       "    </tr>\n",
       "    <tr>\n",
       "      <th>timestamp</th>\n",
       "      <th></th>\n",
       "      <th></th>\n",
       "    </tr>\n",
       "  </thead>\n",
       "  <tbody>\n",
       "    <tr>\n",
       "      <th>2014-04-10 19:10:00</th>\n",
       "      <td>20.246916</td>\n",
       "      <td>20.246916</td>\n",
       "    </tr>\n",
       "    <tr>\n",
       "      <th>2014-04-10 19:15:00</th>\n",
       "      <td>21.624989</td>\n",
       "      <td>21.624989</td>\n",
       "    </tr>\n",
       "    <tr>\n",
       "      <th>2014-04-10 19:20:00</th>\n",
       "      <td>22.973254</td>\n",
       "      <td>22.973254</td>\n",
       "    </tr>\n",
       "    <tr>\n",
       "      <th>2014-04-10 19:25:00</th>\n",
       "      <td>21.392851</td>\n",
       "      <td>21.392851</td>\n",
       "    </tr>\n",
       "    <tr>\n",
       "      <th>2014-04-10 19:30:00</th>\n",
       "      <td>24.234947</td>\n",
       "      <td>24.234947</td>\n",
       "    </tr>\n",
       "    <tr>\n",
       "      <th>2014-04-10 19:35:00</th>\n",
       "      <td>22.999824</td>\n",
       "      <td>22.999824</td>\n",
       "    </tr>\n",
       "    <tr>\n",
       "      <th>2014-04-10 19:40:00</th>\n",
       "      <td>20.482141</td>\n",
       "      <td>20.482141</td>\n",
       "    </tr>\n",
       "    <tr>\n",
       "      <th>2014-04-10 19:45:00</th>\n",
       "      <td>24.232344</td>\n",
       "      <td>24.232344</td>\n",
       "    </tr>\n",
       "    <tr>\n",
       "      <th>2014-04-10 19:50:00</th>\n",
       "      <td>24.450793</td>\n",
       "      <td>24.450793</td>\n",
       "    </tr>\n",
       "    <tr>\n",
       "      <th>2014-04-10 19:55:00</th>\n",
       "      <td>20.508151</td>\n",
       "      <td>20.508151</td>\n",
       "    </tr>\n",
       "  </tbody>\n",
       "</table>\n",
       "</div>"
      ],
      "text/plain": [
       "                         value      diff0\n",
       "timestamp                                \n",
       "2014-04-10 19:10:00  20.246916  20.246916\n",
       "2014-04-10 19:15:00  21.624989  21.624989\n",
       "2014-04-10 19:20:00  22.973254  22.973254\n",
       "2014-04-10 19:25:00  21.392851  21.392851\n",
       "2014-04-10 19:30:00  24.234947  24.234947\n",
       "2014-04-10 19:35:00  22.999824  22.999824\n",
       "2014-04-10 19:40:00  20.482141  20.482141\n",
       "2014-04-10 19:45:00  24.232344  24.232344\n",
       "2014-04-10 19:50:00  24.450793  24.450793\n",
       "2014-04-10 19:55:00  20.508151  20.508151"
      ]
     },
     "execution_count": 6,
     "metadata": {},
     "output_type": "execute_result"
    }
   ],
   "source": [
    "train[-10:-1]\n",
    "test[:10]"
   ]
  },
  {
   "cell_type": "code",
   "execution_count": 7,
   "metadata": {
    "collapsed": true
   },
   "outputs": [],
   "source": [
    "# data['recovery'] = arima.recovery_diff(data[diffn_col_name],diffn,bck_df['value'][0])"
   ]
  }
 ],
 "metadata": {
  "kernelspec": {
   "display_name": "Python 2",
   "language": "python",
   "name": "python2"
  },
  "language_info": {
   "codemirror_mode": {
    "name": "ipython",
    "version": 2
   },
   "file_extension": ".py",
   "mimetype": "text/x-python",
   "name": "python",
   "nbconvert_exporter": "python",
   "pygments_lexer": "ipython2",
   "version": "2.7.14"
  }
 },
 "nbformat": 4,
 "nbformat_minor": 2
}
