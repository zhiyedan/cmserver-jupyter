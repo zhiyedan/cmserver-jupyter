{
 "cells": [
  {
   "cell_type": "code",
   "execution_count": 45,
   "metadata": {
    "collapsed": true
   },
   "outputs": [],
   "source": [
    "import pandas as pd\n",
    "import numpy as np\n",
    "\n",
    "import requests\n",
    "from pandas import DataFrame\n",
    "from io import StringIO\n",
    "import time, json\n",
    "from datetime import date\n",
    "import statsmodels\n",
    "from statsmodels.tsa.stattools import adfuller, acf, pacf\n",
    "import statsmodels.tsa.stattools as st\n",
    "from statsmodels.tsa.arima_model import ARIMA\n",
    "from statsmodels.tsa.seasonal import seasonal_decompose\n",
    "import pyflux as pf\n",
    "from sklearn.metrics import mean_squared_error\n",
    "from sklearn import preprocessing\n",
    "\n",
    "import matplotlib.pyplot as plt\n",
    "%matplotlib inline\n",
    "\n",
    "from matplotlib.pylab import rcParams\n",
    "rcParams['figure.figsize'] = 18,9\n",
    "\n",
    "def parser(time_data):\n",
    "    return pd.datetime.strptime('2017-'+time_data,'%Y-%d-%m %H:%M:%S')\n",
    "data = pd.read_csv('../data/namenode_1130-1212.csv',header=0,index_col=0, parse_dates=[0], date_parser=parser)\n",
    "\n",
    "data = data.rename(columns={'cpu process':'top_cpu','memory process':'top_mem'})\n",
    "data['top_cpu'] = data['top_cpu'].str.partition('/')[0]\n",
    "data['top_mem'] = data['top_mem'].str.partition('/')[0]\n",
    "\n",
    "buff_data = data['buff'].copy()\n",
    "buff_data = buff_data.to_frame()\n",
    "scaler = preprocessing.MinMaxScaler()\n",
    "buff_data['norm'] = scaler.fit_transform(buff_data['buff'].values.reshape(-1,1))"
   ]
  },
  {
   "cell_type": "code",
   "execution_count": 38,
   "metadata": {
    "collapsed": true
   },
   "outputs": [],
   "source": [
    "def test_stationarity(timeseries):\n",
    "    dftest = adfuller(timeseries, autolag='AIC')\n",
    "    return dftest[1]\n",
    "\n",
    "\n",
    "def best_diff(df,col='norm', maxdiff = 10):\n",
    "    p_set = {}\n",
    "    for i in range(0, maxdiff):\n",
    "        temp = df.copy() #每次循环前，重置\n",
    "        if i == 0:\n",
    "            temp['diff'] = temp[col]\n",
    "        else:\n",
    "            temp['diff'] = temp[col].diff(i)\n",
    "            temp = temp.drop(temp.iloc[:i].index) #差分后，前几行的数据会变成nan，所以删掉\n",
    "        pvalue = test_stationarity(temp['diff'])\n",
    "        p_set[i] = pvalue\n",
    "        p_df = pd.DataFrame.from_dict(p_set, orient=\"index\")\n",
    "        p_df.columns = ['p_value']\n",
    "    i = 0\n",
    "    while i < len(p_df):\n",
    "        if p_df['p_value'][i]<0.01:\n",
    "            bestdiff = i\n",
    "            break\n",
    "        i += 1\n",
    "    return bestdiff\n",
    "\n",
    "\n",
    "def produce_diffed_timeseries(df, diffn):\n",
    "    if diffn != 0:\n",
    "        df['diff'] = df['norm'].apply(lambda x:float(x)).diff(diffn)\n",
    "    else:\n",
    "        df['diff'] = df['norm'].apply(lambda x:float(x))\n",
    "    df.dropna(inplace=True) #差分之后的nan去掉\n",
    "    return df\n",
    "\n",
    "\n",
    "def choose_order(ts, maxar, maxma):\n",
    "    order = st.arma_order_select_ic(ts, maxar, maxma, ic=['aic', 'bic', 'hqic'])\n",
    "    return order.bic_min_order\n",
    "\n",
    "\n",
    "def predict_recover(ts, df, diffn):\n",
    "    if diffn != 0:\n",
    "        ts.iloc[0] = ts.iloc[0]+df['norm'][-diffn]\n",
    "        ts = ts.cumsum()\n",
    "#     ts = np.exp(ts)\n",
    "   ts.dropna(inplace=True)\n",
    "    print('还原完成')\n",
    "    return ts\n",
    "\n",
    "\n",
    "def run_aram(df, col, maxar, maxma, test_size = 0.7):\n",
    "    data = df\n",
    "    train_size = int(len(data)*test_size)\n",
    "    train, test = data[:train_size], data[train_size:]\n",
    "    if test_stationarity(train[col]) < 0.01:\n",
    "        print('平稳，不需要差分')\n",
    "    else:\n",
    "        diffn = best_diff(train)\n",
    "        train = produce_diffed_timeseries(train, diffn)\n",
    "        print('差分阶数为'+str(diffn)+'，已完成差分')\n",
    "    print('开始进行ARMA拟合')\n",
    "    order = choose_order(train['diff'], maxar, maxma)\n",
    "    print('模型的阶数为：'+str(order))\n",
    "    _ar = order[0]\n",
    "    _ma = order[1]\n",
    "#     _ar = 2\n",
    "#     _ma = 4\n",
    "    model = pf.ARIMA(data=train, ar=_ar, ma=_ma, target='diff', family=pf.Normal())\n",
    "    model.fit(\"MLE\")\n",
    "    print('fit finished')\n",
    "    test_predict = model.predict(int(test_size))\n",
    "    print('predict finished')    \n",
    "    test_predict = predict_recover(test_predict, train, diffn)\n",
    "    test['predict'] = test_predict\n",
    "    RMSE = np.sqrt(((np.array(test_predict)-np.array(test))**2).sum()/test.size)\n",
    "    print(\"测试集的RMSE为：\"+str(RMSE))\n",
    "    test['norm'].plot()\n",
    "    test['predict'].plot()\n",
    "    plt.show()"
   ]
  },
  {
   "cell_type": "code",
   "execution_count": 40,
   "metadata": {},
   "outputs": [
    {
     "name": "stdout",
     "output_type": "stream",
     "text": [
      "差分阶数为1，已完成差分\n",
      "开始进行ARMA拟合\n",
      "模型的阶数为：(0, 2)\n"
     ]
    },
    {
     "data": {
      "text/plain": [
       "<pyflux.results.MLEResults at 0x7fa75158d850>"
      ]
     },
     "execution_count": 40,
     "metadata": {},
     "output_type": "execute_result"
    },
    {
     "name": "stdout",
     "output_type": "stream",
     "text": [
      "fit finished\n",
      "predict finished\n",
      "还原完成\n"
     ]
    }
   ],
   "source": [
    "    data = buff_data\n",
    "    col = 'norm'\n",
    "    maxar , maxma = 5,5\n",
    "    train_size = int(len(data)*test_size)\n",
    "    train, test = data[:train_size], data[train_size:]\n",
    "    if test_stationarity(train[col]) < 0.01:\n",
    "        print('平稳，不需要差分')\n",
    "    else:\n",
    "        diffn = best_diff(train)\n",
    "        train = produce_diffed_timeseries(train, diffn)\n",
    "        print('差分阶数为'+str(diffn)+'，已完成差分')\n",
    "    print('开始进行ARMA拟合')\n",
    "    order = choose_order(train['diff'], maxar, maxma)\n",
    "    print('模型的阶数为：'+str(order))\n",
    "    _ar = order[0]\n",
    "    _ma = order[1]\n",
    "#     _ar = 2\n",
    "#     _ma = 4\n",
    "    model = pf.ARIMA(data=train, ar=_ar, ma=_ma, target='diff', family=pf.Normal())\n",
    "    model.fit(\"M-H\")\n",
    "    model.plot_fit()\n",
    "    print('fit finished')\n",
    "    test_predict = model.predict(int(test_size))\n",
    "    print('predict finished')    \n",
    "    test_predict = predict_recover(test_predict, train, diffn)\n",
    "    test['predict'] = test_predict"
   ]
  },
  {
   "cell_type": "code",
   "execution_count": 57,
   "metadata": {},
   "outputs": [
    {
     "name": "stdout",
     "output_type": "stream",
     "text": [
      "Acceptance rate of Metropolis-Hastings is 0.17005\n",
      "Acceptance rate of Metropolis-Hastings is 0.26635\n",
      "\n",
      "Tuning complete! Now sampling.\n",
      "Acceptance rate of Metropolis-Hastings is 0.2587\n"
     ]
    },
    {
     "data": {
      "text/plain": [
       "<pyflux.results.MCMCResults at 0x7fa750c8eed0>"
      ]
     },
     "execution_count": 57,
     "metadata": {},
     "output_type": "execute_result"
    }
   ],
   "source": [
    "model = pf.ARIMA(data=train, ar=0, ma=2, target='diff', family=pf.Normal())\n",
    "# modeled.summary()\n",
    "model.fit('M-H')"
   ]
  },
  {
   "cell_type": "code",
   "execution_count": 61,
   "metadata": {},
   "outputs": [
    {
     "data": {
      "image/png": "[encoded data removed]",
      "text/plain": [
       "<matplotlib.figure.Figure at 0x7fa7518bf150>"
      ]
     },
     "metadata": {},
     "output_type": "display_data"
    },
    {
     "data": {
      "text/html": [
       "<div>\n",
       "<style>\n",
       "    .dataframe thead tr:only-child th {\n",
       "        text-align: right;\n",
       "    }\n",
       "\n",
       "    .dataframe thead th {\n",
       "        text-align: left;\n",
       "    }\n",
       "\n",
       "    .dataframe tbody tr th {\n",
       "        vertical-align: top;\n",
       "    }\n",
       "</style>\n",
       "<table border=\"1\" class=\"dataframe\">\n",
       "  <thead>\n",
       "    <tr style=\"text-align: right;\">\n",
       "      <th></th>\n",
       "      <th>diff</th>\n",
       "    </tr>\n",
       "    <tr>\n",
       "      <th>date/time</th>\n",
       "      <th></th>\n",
       "    </tr>\n",
       "  </thead>\n",
       "  <tbody>\n",
       "    <tr>\n",
       "      <th>2017-12-09 00:18:40</th>\n",
       "      <td>0.000039</td>\n",
       "    </tr>\n",
       "    <tr>\n",
       "      <th>2017-12-09 00:19:40</th>\n",
       "      <td>0.000044</td>\n",
       "    </tr>\n",
       "    <tr>\n",
       "      <th>2017-12-09 00:20:40</th>\n",
       "      <td>0.000047</td>\n",
       "    </tr>\n",
       "    <tr>\n",
       "      <th>2017-12-09 00:21:39</th>\n",
       "      <td>0.000061</td>\n",
       "    </tr>\n",
       "    <tr>\n",
       "      <th>2017-12-09 00:22:40</th>\n",
       "      <td>0.000053</td>\n",
       "    </tr>\n",
       "  </tbody>\n",
       "</table>\n",
       "</div>"
      ],
      "text/plain": [
       "                         diff\n",
       "date/time                    \n",
       "2017-12-09 00:18:40  0.000039\n",
       "2017-12-09 00:19:40  0.000044\n",
       "2017-12-09 00:20:40  0.000047\n",
       "2017-12-09 00:21:39  0.000061\n",
       "2017-12-09 00:22:40  0.000053"
      ]
     },
     "execution_count": 61,
     "metadata": {},
     "output_type": "execute_result"
    }
   ],
   "source": [
    "model.plot_fit()\n"
   ]
  },
  {
   "cell_type": "code",
   "execution_count": 1,
   "metadata": {},
   "outputs": [
    {
     "ename": "NameError",
     "evalue": "name 'model' is not defined",
     "output_type": "error",
     "traceback": [
      "\u001b[0;31m\u001b[0m",
      "\u001b[0;31mNameError\u001b[0mTraceback (most recent call last)",
      "\u001b[0;32m<ipython-input-1-e8ec4c58b1d6>\u001b[0m in \u001b[0;36m<module>\u001b[0;34m()\u001b[0m\n\u001b[0;32m----> 1\u001b[0;31m \u001b[0mmodel\u001b[0m\u001b[0;34m.\u001b[0m\u001b[0mpredict\u001b[0m\u001b[0;34m(\u001b[0m\u001b[0;36m5\u001b[0m\u001b[0;34m)\u001b[0m\u001b[0;34m\u001b[0m\u001b[0m\n\u001b[0m",
      "\u001b[0;31mNameError\u001b[0m: name 'model' is not defined"
     ]
    }
   ],
   "source": [
    "model.predict(5)"
   ]
  }
 ],
 "metadata": {
  "kernelspec": {
   "display_name": "Python 2",
   "language": "python",
   "name": "python2"
  },
  "language_info": {
   "codemirror_mode": {
    "name": "ipython",
    "version": 2
   },
   "file_extension": ".py",
   "mimetype": "text/x-python",
   "name": "python",
   "nbconvert_exporter": "python",
   "pygments_lexer": "ipython2",
   "version": "2.7.14"
  }
 },
 "nbformat": 4,
 "nbformat_minor": 2
}
